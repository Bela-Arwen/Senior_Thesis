{
 "cells": [
  {
   "cell_type": "code",
   "execution_count": 5,
   "id": "053c86aa",
   "metadata": {},
   "outputs": [],
   "source": [
    "import pickle \n",
    "import os\n",
    "import math\n",
    "import numpy as np\n",
    "import pandas as pd\n",
    "import matplotlib.pyplot as plt\n",
    "from matplotlib.gridspec import GridSpec\n",
    "from mpl_toolkits.axes_grid1 import host_subplot\n",
    "import mpl_toolkits.axisartist as AA\n",
    "from matplotlib.backends.backend_pdf import PdfPages\n",
    "from astropy.io import fits\n",
    "from collections import OrderedDict"
   ]
  },
  {
   "cell_type": "code",
   "execution_count": 9,
   "id": "615ede4a",
   "metadata": {},
   "outputs": [
    {
     "ename": "OSError",
     "evalue": "NIRSPECinfo.csv not found.",
     "output_type": "error",
     "traceback": [
      "\u001b[0;31m---------------------------------------------------------------------------\u001b[0m",
      "\u001b[0;31mOSError\u001b[0m                                   Traceback (most recent call last)",
      "Input \u001b[0;32mIn [9]\u001b[0m, in \u001b[0;36m<cell line: 8>\u001b[0;34m()\u001b[0m\n\u001b[1;32m      5\u001b[0m pathspec \u001b[38;5;241m=\u001b[39m \u001b[38;5;124m'\u001b[39m\u001b[38;5;124mUsers/belaarwen/Desktop/Vassar/Classes/Astronomy/Thesis/NIRSPECdata\u001b[39m\u001b[38;5;124m'\u001b[39m\n\u001b[1;32m      7\u001b[0m age \u001b[38;5;241m=\u001b[39m \u001b[38;5;28;01mFalse\u001b[39;00m                                                              \u001b[38;5;66;03m# True = all, False = just class II/III\u001b[39;00m\n\u001b[0;32m----> 8\u001b[0m names \u001b[38;5;241m=\u001b[39m \u001b[43mnp\u001b[49m\u001b[38;5;241;43m.\u001b[39;49m\u001b[43mloadtxt\u001b[49m\u001b[43m(\u001b[49m\u001b[38;5;124;43m'\u001b[39;49m\u001b[38;5;124;43mNIRSPECinfo.csv\u001b[39;49m\u001b[38;5;124;43m'\u001b[39;49m\u001b[43m,\u001b[49m\u001b[43musecols\u001b[49m\u001b[38;5;241;43m=\u001b[39;49m\u001b[38;5;241;43m0\u001b[39;49m\u001b[43m,\u001b[49m\u001b[43mdelimiter\u001b[49m\u001b[38;5;241;43m=\u001b[39;49m\u001b[38;5;124;43m'\u001b[39;49m\u001b[38;5;124;43m,\u001b[39;49m\u001b[38;5;124;43m'\u001b[39;49m\u001b[43m,\u001b[49m\u001b[43mdtype\u001b[49m\u001b[38;5;241;43m=\u001b[39;49m\u001b[38;5;124;43m'\u001b[39;49m\u001b[38;5;124;43mstr\u001b[39;49m\u001b[38;5;124;43m'\u001b[39;49m\u001b[43m)\u001b[49m\n\u001b[1;32m     10\u001b[0m spec_d \u001b[38;5;241m=\u001b[39m {}                                                              \u001b[38;5;66;03m#dictionary of spectra for easy iteration\u001b[39;00m\n\u001b[1;32m     11\u001b[0m \u001b[38;5;28;01mif\u001b[39;00m age \u001b[38;5;241m==\u001b[39m \u001b[38;5;28;01mTrue\u001b[39;00m:                                                          \u001b[38;5;66;03m#grabs entire folder of spectra\u001b[39;00m\n",
      "File \u001b[0;32m~/opt/anaconda3/lib/python3.9/site-packages/numpy/lib/npyio.py:1067\u001b[0m, in \u001b[0;36mloadtxt\u001b[0;34m(fname, dtype, comments, delimiter, converters, skiprows, usecols, unpack, ndmin, encoding, max_rows, like)\u001b[0m\n\u001b[1;32m   1065\u001b[0m     fname \u001b[38;5;241m=\u001b[39m os_fspath(fname)\n\u001b[1;32m   1066\u001b[0m \u001b[38;5;28;01mif\u001b[39;00m _is_string_like(fname):\n\u001b[0;32m-> 1067\u001b[0m     fh \u001b[38;5;241m=\u001b[39m \u001b[43mnp\u001b[49m\u001b[38;5;241;43m.\u001b[39;49m\u001b[43mlib\u001b[49m\u001b[38;5;241;43m.\u001b[39;49m\u001b[43m_datasource\u001b[49m\u001b[38;5;241;43m.\u001b[39;49m\u001b[43mopen\u001b[49m\u001b[43m(\u001b[49m\u001b[43mfname\u001b[49m\u001b[43m,\u001b[49m\u001b[43m \u001b[49m\u001b[38;5;124;43m'\u001b[39;49m\u001b[38;5;124;43mrt\u001b[39;49m\u001b[38;5;124;43m'\u001b[39;49m\u001b[43m,\u001b[49m\u001b[43m \u001b[49m\u001b[43mencoding\u001b[49m\u001b[38;5;241;43m=\u001b[39;49m\u001b[43mencoding\u001b[49m\u001b[43m)\u001b[49m\n\u001b[1;32m   1068\u001b[0m     fencoding \u001b[38;5;241m=\u001b[39m \u001b[38;5;28mgetattr\u001b[39m(fh, \u001b[38;5;124m'\u001b[39m\u001b[38;5;124mencoding\u001b[39m\u001b[38;5;124m'\u001b[39m, \u001b[38;5;124m'\u001b[39m\u001b[38;5;124mlatin1\u001b[39m\u001b[38;5;124m'\u001b[39m)\n\u001b[1;32m   1069\u001b[0m     fh \u001b[38;5;241m=\u001b[39m \u001b[38;5;28miter\u001b[39m(fh)\n",
      "File \u001b[0;32m~/opt/anaconda3/lib/python3.9/site-packages/numpy/lib/_datasource.py:193\u001b[0m, in \u001b[0;36mopen\u001b[0;34m(path, mode, destpath, encoding, newline)\u001b[0m\n\u001b[1;32m    156\u001b[0m \u001b[38;5;124;03m\"\"\"\u001b[39;00m\n\u001b[1;32m    157\u001b[0m \u001b[38;5;124;03mOpen `path` with `mode` and return the file object.\u001b[39;00m\n\u001b[1;32m    158\u001b[0m \n\u001b[0;32m   (...)\u001b[0m\n\u001b[1;32m    189\u001b[0m \n\u001b[1;32m    190\u001b[0m \u001b[38;5;124;03m\"\"\"\u001b[39;00m\n\u001b[1;32m    192\u001b[0m ds \u001b[38;5;241m=\u001b[39m DataSource(destpath)\n\u001b[0;32m--> 193\u001b[0m \u001b[38;5;28;01mreturn\u001b[39;00m \u001b[43mds\u001b[49m\u001b[38;5;241;43m.\u001b[39;49m\u001b[43mopen\u001b[49m\u001b[43m(\u001b[49m\u001b[43mpath\u001b[49m\u001b[43m,\u001b[49m\u001b[43m \u001b[49m\u001b[43mmode\u001b[49m\u001b[43m,\u001b[49m\u001b[43m \u001b[49m\u001b[43mencoding\u001b[49m\u001b[38;5;241;43m=\u001b[39;49m\u001b[43mencoding\u001b[49m\u001b[43m,\u001b[49m\u001b[43m \u001b[49m\u001b[43mnewline\u001b[49m\u001b[38;5;241;43m=\u001b[39;49m\u001b[43mnewline\u001b[49m\u001b[43m)\u001b[49m\n",
      "File \u001b[0;32m~/opt/anaconda3/lib/python3.9/site-packages/numpy/lib/_datasource.py:533\u001b[0m, in \u001b[0;36mDataSource.open\u001b[0;34m(self, path, mode, encoding, newline)\u001b[0m\n\u001b[1;32m    530\u001b[0m     \u001b[38;5;28;01mreturn\u001b[39;00m _file_openers[ext](found, mode\u001b[38;5;241m=\u001b[39mmode,\n\u001b[1;32m    531\u001b[0m                               encoding\u001b[38;5;241m=\u001b[39mencoding, newline\u001b[38;5;241m=\u001b[39mnewline)\n\u001b[1;32m    532\u001b[0m \u001b[38;5;28;01melse\u001b[39;00m:\n\u001b[0;32m--> 533\u001b[0m     \u001b[38;5;28;01mraise\u001b[39;00m \u001b[38;5;167;01mIOError\u001b[39;00m(\u001b[38;5;124m\"\u001b[39m\u001b[38;5;132;01m%s\u001b[39;00m\u001b[38;5;124m not found.\u001b[39m\u001b[38;5;124m\"\u001b[39m \u001b[38;5;241m%\u001b[39m path)\n",
      "\u001b[0;31mOSError\u001b[0m: NIRSPECinfo.csv not found."
     ]
    }
   ],
   "source": [
    "#sources_list = ['AS205','CITau','DoAr25','DoAr33','FZTau','GKTau','HD143006','HPTau','IQTau','IRAS04385','WSB52']\n",
    "\n",
    "#pathspec = '/home/annie/Dropbox/Vassar/Research/COAnalysis/NIRSPECdata' #linux path where spectra are located\n",
    "#pathspec = '/Users/adicksonvandervelde/Dropbox/Vassar/Research/COAnalysis/NIRSPECdata'\n",
    "pathspec = 'Users/belaarwen/Desktop/Vassar/Classes/Astronomy/Thesis/NIRSPECdata'\n",
    "\n",
    "age = False                                                              # True = all, False = just class II/III\n",
    "names = np.loadtxt('NIRSPECinfo.csv',usecols=0,delimiter=',',dtype='str')\n",
    "\n",
    "spec_d = {}                                                              #dictionary of spectra for easy iteration\n",
    "if age == True:                                                          #grabs entire folder of spectra\n",
    "    for filename in os.listdir(pathspec):\n",
    "        f = os.path.join(pathspec,filename)\n",
    "        if filename == '.DS_Store':                                      #ignore this, lol\n",
    "            blue = 1                                                     #an extraneous file in my folder\n",
    "        elif os.path.isfile(f):\n",
    "            y = filename.replace('_glue.dat','');name = y.replace('nirspec_','')\n",
    "            wavelength, flux = np.loadtxt(f,skiprows=27,unpack=True)     #read data from file\n",
    "            data = [wavelength,flux]                                     #merge data\n",
    "            spec_d[name] = data                                          #write to dictionary\n",
    "else:\n",
    "    for filename in os.listdir(pathspec):                                #grabs only Class Is\n",
    "        f = os.path.join(pathspec,filename)\n",
    "        if filename == '.DS_Store':\n",
    "            blue = 1\n",
    "        elif os.path.isfile(f):\n",
    "            y = filename.replace('_glue.dat','');name = y.replace('nirspec_','')\n",
    "            if any(x==name for x in names) == True:                      #checks if filename is in list of names\n",
    "                wavelength, flux = np.loadtxt(f,skiprows=27,unpack=True) #read data from file\n",
    "                data = [wavelength,flux]                                 #merge data\n",
    "                spec_d[name] = data  #write to dictionary\n",
    "        \n",
    "spec_d = OrderedDict(sorted(spec_d.items()))                             #puts dictionary in alphabetical order"
   ]
  },
  {
   "cell_type": "code",
   "execution_count": 7,
   "id": "5f0d27b0",
   "metadata": {},
   "outputs": [
    {
     "ename": "NameError",
     "evalue": "name 'spec_d' is not defined",
     "output_type": "error",
     "traceback": [
      "\u001b[0;31m---------------------------------------------------------------------------\u001b[0m",
      "\u001b[0;31mNameError\u001b[0m                                 Traceback (most recent call last)",
      "Input \u001b[0;32mIn [7]\u001b[0m, in \u001b[0;36m<cell line: 1>\u001b[0;34m()\u001b[0m\n\u001b[0;32m----> 1\u001b[0m N \u001b[38;5;241m=\u001b[39m \u001b[38;5;28mint\u001b[39m(\u001b[38;5;28mlen\u001b[39m(\u001b[43mspec_d\u001b[49m)\u001b[38;5;241m/\u001b[39m\u001b[38;5;241m6\u001b[39m)                                 \u001b[38;5;66;03m#divide number of spectra by 6\u001b[39;00m\n\u001b[1;32m      2\u001b[0m N0 \u001b[38;5;241m=\u001b[39m \u001b[38;5;28mlen\u001b[39m(spec_d)\u001b[38;5;241m%\u001b[39m\u001b[38;5;241m6\u001b[39m                                     \u001b[38;5;66;03m#find number of remaining spectra\u001b[39;00m\n\u001b[1;32m      3\u001b[0m n \u001b[38;5;241m=\u001b[39m \u001b[38;5;241m0\u001b[39m                                                  \u001b[38;5;66;03m#to count through dictionary through mutliple loops\u001b[39;00m\n",
      "\u001b[0;31mNameError\u001b[0m: name 'spec_d' is not defined"
     ]
    }
   ],
   "source": [
    "N = int(len(spec_d)/6)                                 #divide number of spectra by 6\n",
    "N0 = len(spec_d)%6                                     #find number of remaining spectra\n",
    "n = 0                                                  #to count through dictionary through mutliple loops\n",
    "\n",
    "\n",
    "for i in range(N):                                     #create N figures\n",
    "    fig = plt.figure(i+1,figsize=(12,8))               #create the ith figure\n",
    "    gs = GridSpec(1,2)\n",
    "    ax1 = host_subplot(gs[0, 0],axes_class=AA.Axes)\n",
    "    ax2 = host_subplot(gs[0, 1],axes_class=AA.Axes)\n",
    "    for j in range(6):                                  #plotting loop for the 6 spectra\n",
    "        offset = (6 - j)*0.5                            #setting position on graph\n",
    "        spot = list(spec_d.items())[n]                  #calls the nth key of the dictionary\n",
    "        name = spot[0]                                  #grabs the name from the dictionary \"entry\"\n",
    "        wave,flux = spot[1]                             #grabs the wavelength and flux\n",
    "        fix_flux = flux[np.logical_not(np.isnan(flux))] #remove fluxes\n",
    "        avg_flux = np.average(fix_flux)                 #finds average flux value\n",
    "        normflux = np.divide(flux,avg_flux)             #normalizes flux so average flux  = 1\n",
    "        sflux = normflux+offset                         #offsets normalized flux\n",
    "        ax1.plot(wave,sflux,'k',linewidth=.75);ax2.plot(wave,sflux,'k',linewidth=.75)\n",
    "        ax1.text(4.791,offset+1,name)                   #put obj name in between subplots\n",
    "        n+=1                                            #next dictionary value\n",
    "        \n",
    "    ax1.set_xlim(4.64,4.79);ax1.set_ylim(1,4.5);ax1.get_yaxis().set_ticks([])\n",
    "    ax1.set_xlabel('$\\lambda$ ($\\mu$m)');ax1.set_ylabel('Normalized Flux + Constant')\n",
    "    \n",
    "    ax2.set_xlim(4.94,5.11);ax2.set_ylim(1,4.5);ax2.get_yaxis().set_ticks([])\n",
    "    ax2.set_xlabel('$\\lambda$ ($\\mu$m)')\n",
    "\n",
    "if N0 > 0:                                              #create a final figure with any remaining spectra\n",
    "    fig = plt.figure(i+2,figsize=(12,8))                #create final figure\n",
    "    gs = GridSpec(1,2)\n",
    "    ax1 = host_subplot(gs[0, 0],axes_class=AA.Axes)\n",
    "    ax2 = host_subplot(gs[0, 1],axes_class=AA.Axes)\n",
    "    for j in range(N0):                                 #add final spectra to fig\n",
    "        offset = (6 - j)*0.5                            #setting position on graph\n",
    "        spot = list(spec_d.items())[n]                  #calls the nth key of the dictionary\n",
    "        name = spot[0]                                  #grabs the name from the dictionary \"entry\"\n",
    "        wave,flux = spot[1]                             #grabs the wavelength and flux\n",
    "        fix_flux = flux[np.logical_not(np.isnan(flux))] #remove nan fluxes\n",
    "        avg_flux = np.average(fix_flux)                 #finds average flux value\n",
    "        normflux = np.divide(flux,avg_flux)             #normalizes flux so average flux  = 1\n",
    "        sflux = normflux+offset                         #offsets normalized flux\n",
    "        ax1.plot(wave,sflux,'k',linewidth=.75);ax2.plot(wave,sflux,'k',linewidth=.75)\n",
    "        ax1.text(4.791,offset+1,name)                   #put obj name in between subplots\n",
    "        n+=1                                            #next dictionary value\n",
    "        \n",
    "    ax1.set_xlim(4.64,4.79);ax1.set_ylim(1,4.5);ax1.get_yaxis().set_ticks([])\n",
    "    ax1.set_xlabel('$\\lambda$ ($\\mu$m)');ax1.set_ylabel('Normalized Flux + Constant')\n",
    "    \n",
    "    ax2.set_xlim(4.94,5.11);ax2.set_ylim(1,4.5);ax2.get_yaxis().set_ticks([])\n",
    "    ax2.set_xlabel('$\\lambda$ ($\\mu$m)')\n",
    "    \n",
    "if age == True:                                         #saving all figures to the same pdf\n",
    "    pp = PdfPages('mbandplots.pdf')                     #includes Class I name\n",
    "else:\n",
    "    pp = PdfPages('mbandplots_classII_III.pdf')         #sans Class I name\n",
    "for i in range(N):\n",
    "    fig = plt.figure(i+1)\n",
    "    fig.savefig(pp, format='pdf')\n",
    "if N0 > 0:\n",
    "    fig = plt.figure(i+2)\n",
    "    fig.savefig(pp, format='pdf')\n",
    "pp.close()"
   ]
  },
  {
   "cell_type": "code",
   "execution_count": null,
   "id": "935b1f1d",
   "metadata": {},
   "outputs": [],
   "source": []
  }
 ],
 "metadata": {
  "kernelspec": {
   "display_name": "Python 3 (ipykernel)",
   "language": "python",
   "name": "python3"
  },
  "language_info": {
   "codemirror_mode": {
    "name": "ipython",
    "version": 3
   },
   "file_extension": ".py",
   "mimetype": "text/x-python",
   "name": "python",
   "nbconvert_exporter": "python",
   "pygments_lexer": "ipython3",
   "version": "3.9.12"
  }
 },
 "nbformat": 4,
 "nbformat_minor": 5
}
