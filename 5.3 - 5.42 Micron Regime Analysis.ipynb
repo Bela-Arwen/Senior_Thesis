{
 "cells": [
  {
   "cell_type": "code",
   "execution_count": 1,
   "metadata": {},
   "outputs": [
    {
     "name": "stdout",
     "output_type": "stream",
     "text": [
      "%pylab is deprecated, use %matplotlib inline and import the required libraries.\n",
      "Populating the interactive namespace from numpy and matplotlib\n"
     ]
    }
   ],
   "source": [
    "%pylab inline\n",
    "from astropy.io import fits\n",
    "import astropy.units as u\n",
    "import pickle as pickle\n",
    "import os as os\n",
    "import pandas as pd\n",
    "\n",
    "from spectools_ir.utils import extract_hitran_data, spec_convol, make_rotation_diagram, get_molmass\n",
    "from spectools_ir.utils import compute_thermal_velocity, sigma_to_fwhm, fwhm_to_sigma, wn_to_k, spec_convol_R\n",
    "from spectools_ir.utils import get_miri_mrs_resolution, get_miri_mrs_wavelengths, make_miri_mrs_figure\n",
    "\n",
    "from spectools_ir.flux_calculator import calc_fluxes, make_lineshape\n",
    "\n",
    "from spectools_ir.slabspec import make_spec\n",
    "\n",
    "from spectools_ir.slab_fitter import Config, LineData,Retrieval\n",
    "from spectools_ir.slab_fitter import corner_plot, trace_plot, find_best_fit, compute_model_fluxes\n",
    "from spectools_ir.slab_fitter import calc_solid_angle, calc_radius\n",
    "from spectools_ir.slab_fitter import read_data_from_file, get_samples"
   ]
  },
  {
   "cell_type": "code",
   "execution_count": 2,
   "metadata": {},
   "outputs": [
    {
     "name": "stdout",
     "output_type": "stream",
     "text": [
      "/Users/belaarwen/opt/anaconda3/lib/python3.9/site-packages/spectools_ir/__init__.py\n"
     ]
    }
   ],
   "source": [
    "import spectools_ir\n",
    "print(spectools_ir.__file__)"
   ]
  },
  {
   "cell_type": "markdown",
   "metadata": {},
   "source": [
    "# Flux_calculator example use"
   ]
  },
  {
   "cell_type": "markdown",
   "metadata": {},
   "source": [
    "Flux calculator will loop through a set of provided wavelengths, then perform a Gaussian and numerical computation of line flux at each location.  If one begins by using the helper tool \"extract_hitran_data\", the output will include transition-specific data in addition to the computed line fluxes."
   ]
  },
  {
   "cell_type": "markdown",
   "metadata": {},
   "source": [
    "### Read in HITRAN data with extract_hitran_data"
   ]
  },
  {
   "cell_type": "markdown",
   "metadata": {},
   "source": [
    "This example uses extract_hitran_data to find fundamental CO vibrational transitions in the M band.  A spectrum is read in from a FITS file."
   ]
  },
  {
   "cell_type": "code",
   "execution_count": 8,
   "metadata": {},
   "outputs": [],
   "source": [
    "hitran_data=extract_hitran_data('CO',5.3,5.42,vup=1)                    #calling for CO lines\n",
    "hitran_data=extract_hitran_data('H2O',5.3,5.42,eupmax=5000,aupmin=0)    #calling for H2O lines \n",
    "                                                                        #eupmax gives a maximum to the energy transition in ___?\n",
    "                                                                        #aupmin gives __?__\n",
    "\n",
    "#This line calls to the hitran dataset and labels an astropy table as \"hitran_data\". \n",
    "#We are calling for CO and H2O from the 5.3 to the 5.42 micron regime "
   ]
  },
  {
   "cell_type": "code",
   "execution_count": 9,
   "metadata": {},
   "outputs": [
    {
     "data": {
      "text/plain": [
       "<function spectools_ir.utils.utils.extract_hitran_data(molecule_name, wavemin, wavemax, isotopologue_number=1, eupmax=None, aupmin=None, swmin=None, vup=None)>"
      ]
     },
     "execution_count": 9,
     "metadata": {},
     "output_type": "execute_result"
    }
   ],
   "source": [
    "extract_hitran_data"
   ]
  },
  {
   "cell_type": "code",
   "execution_count": 10,
   "metadata": {},
   "outputs": [
    {
     "ename": "KeyError",
     "evalue": "\"Key 'WAVELENGTH' does not exist.\"",
     "output_type": "error",
     "traceback": [
      "\u001b[0;31m---------------------------------------------------------------------------\u001b[0m",
      "\u001b[0;31mValueError\u001b[0m                                Traceback (most recent call last)",
      "File \u001b[0;32m~/opt/anaconda3/lib/python3.9/site-packages/astropy/io/fits/column.py:2046\u001b[0m, in \u001b[0;36m_get_index\u001b[0;34m(names, key)\u001b[0m\n\u001b[1;32m   2045\u001b[0m \u001b[38;5;28;01mtry\u001b[39;00m:\n\u001b[0;32m-> 2046\u001b[0m     indx \u001b[38;5;241m=\u001b[39m \u001b[43mnames\u001b[49m\u001b[38;5;241;43m.\u001b[39;49m\u001b[43mindex\u001b[49m\u001b[43m(\u001b[49m\u001b[43mkey\u001b[49m\u001b[38;5;241;43m.\u001b[39;49m\u001b[43mrstrip\u001b[49m\u001b[43m(\u001b[49m\u001b[43m)\u001b[49m\u001b[43m)\u001b[49m\n\u001b[1;32m   2047\u001b[0m \u001b[38;5;28;01mexcept\u001b[39;00m \u001b[38;5;167;01mValueError\u001b[39;00m:\n\u001b[1;32m   2048\u001b[0m     \u001b[38;5;66;03m# try to match case-insentively,\u001b[39;00m\n",
      "\u001b[0;31mValueError\u001b[0m: 'WAVELENGTH' is not in list",
      "\nDuring handling of the above exception, another exception occurred:\n",
      "\u001b[0;31mKeyError\u001b[0m                                  Traceback (most recent call last)",
      "Input \u001b[0;32mIn [10]\u001b[0m, in \u001b[0;36m<cell line: 9>\u001b[0;34m()\u001b[0m\n\u001b[1;32m      7\u001b[0m hdulist\u001b[38;5;241m=\u001b[39mfits\u001b[38;5;241m.\u001b[39mopen(infile)\n\u001b[1;32m      8\u001b[0m data\u001b[38;5;241m=\u001b[39mhdulist[\u001b[38;5;241m1\u001b[39m]\u001b[38;5;241m.\u001b[39mdata\n\u001b[0;32m----> 9\u001b[0m wave\u001b[38;5;241m=\u001b[39m\u001b[43mdata\u001b[49m\u001b[43m[\u001b[49m\u001b[38;5;124;43m'\u001b[39;49m\u001b[38;5;124;43mWAVELENGTH\u001b[39;49m\u001b[38;5;124;43m'\u001b[39;49m\u001b[43m]\u001b[49m[\u001b[38;5;241m0\u001b[39m]\u001b[38;5;241m*\u001b[39m\u001b[38;5;241m1\u001b[39m\u001b[38;5;241m/\u001b[39me\u001b[38;5;241m-\u001b[39m\u001b[38;5;241m3\u001b[39m\n\u001b[1;32m     10\u001b[0m flux\u001b[38;5;241m=\u001b[39mdata[\u001b[38;5;124m'\u001b[39m\u001b[38;5;124mFLUX\u001b[39m\u001b[38;5;124m'\u001b[39m][\u001b[38;5;241m0\u001b[39m]\n",
      "File \u001b[0;32m~/opt/anaconda3/lib/python3.9/site-packages/astropy/io/fits/fitsrec.py:504\u001b[0m, in \u001b[0;36mFITS_rec.__getitem__\u001b[0;34m(self, key)\u001b[0m\n\u001b[1;32m    501\u001b[0m     \u001b[38;5;28;01mreturn\u001b[39;00m \u001b[38;5;28msuper\u001b[39m()\u001b[38;5;241m.\u001b[39m\u001b[38;5;21m__getitem__\u001b[39m(key)\n\u001b[1;32m    503\u001b[0m \u001b[38;5;28;01mif\u001b[39;00m \u001b[38;5;28misinstance\u001b[39m(key, \u001b[38;5;28mstr\u001b[39m):\n\u001b[0;32m--> 504\u001b[0m     \u001b[38;5;28;01mreturn\u001b[39;00m \u001b[38;5;28;43mself\u001b[39;49m\u001b[38;5;241;43m.\u001b[39;49m\u001b[43mfield\u001b[49m\u001b[43m(\u001b[49m\u001b[43mkey\u001b[49m\u001b[43m)\u001b[49m\n\u001b[1;32m    506\u001b[0m \u001b[38;5;66;03m# Have to view as a recarray then back as a FITS_rec, otherwise the\u001b[39;00m\n\u001b[1;32m    507\u001b[0m \u001b[38;5;66;03m# circular reference fix/hack in FITS_rec.field() won't preserve\u001b[39;00m\n\u001b[1;32m    508\u001b[0m \u001b[38;5;66;03m# the slice.\u001b[39;00m\n\u001b[1;32m    509\u001b[0m out \u001b[38;5;241m=\u001b[39m \u001b[38;5;28mself\u001b[39m\u001b[38;5;241m.\u001b[39mview(np\u001b[38;5;241m.\u001b[39mrecarray)[key]\n",
      "File \u001b[0;32m~/opt/anaconda3/lib/python3.9/site-packages/astropy/io/fits/fitsrec.py:691\u001b[0m, in \u001b[0;36mFITS_rec.field\u001b[0;34m(self, key)\u001b[0m\n\u001b[1;32m    685\u001b[0m \u001b[38;5;124;03m\"\"\"\u001b[39;00m\n\u001b[1;32m    686\u001b[0m \u001b[38;5;124;03mA view of a `Column`'s data as an array.\u001b[39;00m\n\u001b[1;32m    687\u001b[0m \u001b[38;5;124;03m\"\"\"\u001b[39;00m\n\u001b[1;32m    689\u001b[0m \u001b[38;5;66;03m# NOTE: The *column* index may not be the same as the field index in\u001b[39;00m\n\u001b[1;32m    690\u001b[0m \u001b[38;5;66;03m# the recarray, if the column is a phantom column\u001b[39;00m\n\u001b[0;32m--> 691\u001b[0m column \u001b[38;5;241m=\u001b[39m \u001b[38;5;28;43mself\u001b[39;49m\u001b[38;5;241;43m.\u001b[39;49m\u001b[43mcolumns\u001b[49m\u001b[43m[\u001b[49m\u001b[43mkey\u001b[49m\u001b[43m]\u001b[49m\n\u001b[1;32m    692\u001b[0m name \u001b[38;5;241m=\u001b[39m column\u001b[38;5;241m.\u001b[39mname\n\u001b[1;32m    693\u001b[0m \u001b[38;5;28mformat\u001b[39m \u001b[38;5;241m=\u001b[39m column\u001b[38;5;241m.\u001b[39mformat\n",
      "File \u001b[0;32m~/opt/anaconda3/lib/python3.9/site-packages/astropy/io/fits/column.py:1644\u001b[0m, in \u001b[0;36mColDefs.__getitem__\u001b[0;34m(self, key)\u001b[0m\n\u001b[1;32m   1642\u001b[0m \u001b[38;5;28;01mdef\u001b[39;00m \u001b[38;5;21m__getitem__\u001b[39m(\u001b[38;5;28mself\u001b[39m, key):\n\u001b[1;32m   1643\u001b[0m     \u001b[38;5;28;01mif\u001b[39;00m \u001b[38;5;28misinstance\u001b[39m(key, \u001b[38;5;28mstr\u001b[39m):\n\u001b[0;32m-> 1644\u001b[0m         key \u001b[38;5;241m=\u001b[39m \u001b[43m_get_index\u001b[49m\u001b[43m(\u001b[49m\u001b[38;5;28;43mself\u001b[39;49m\u001b[38;5;241;43m.\u001b[39;49m\u001b[43mnames\u001b[49m\u001b[43m,\u001b[49m\u001b[43m \u001b[49m\u001b[43mkey\u001b[49m\u001b[43m)\u001b[49m\n\u001b[1;32m   1646\u001b[0m     x \u001b[38;5;241m=\u001b[39m \u001b[38;5;28mself\u001b[39m\u001b[38;5;241m.\u001b[39mcolumns[key]\n\u001b[1;32m   1647\u001b[0m     \u001b[38;5;28;01mif\u001b[39;00m _is_int(key):\n",
      "File \u001b[0;32m~/opt/anaconda3/lib/python3.9/site-packages/astropy/io/fits/column.py:2055\u001b[0m, in \u001b[0;36m_get_index\u001b[0;34m(names, key)\u001b[0m\n\u001b[1;32m   2053\u001b[0m     indx \u001b[38;5;241m=\u001b[39m names\u001b[38;5;241m.\u001b[39mindex(_key)\n\u001b[1;32m   2054\u001b[0m \u001b[38;5;28;01melif\u001b[39;00m count \u001b[38;5;241m==\u001b[39m \u001b[38;5;241m0\u001b[39m:\n\u001b[0;32m-> 2055\u001b[0m     \u001b[38;5;28;01mraise\u001b[39;00m \u001b[38;5;167;01mKeyError\u001b[39;00m(\u001b[38;5;124mf\u001b[39m\u001b[38;5;124m\"\u001b[39m\u001b[38;5;124mKey \u001b[39m\u001b[38;5;124m'\u001b[39m\u001b[38;5;132;01m{\u001b[39;00mkey\u001b[38;5;132;01m}\u001b[39;00m\u001b[38;5;124m'\u001b[39m\u001b[38;5;124m does not exist.\u001b[39m\u001b[38;5;124m\"\u001b[39m)\n\u001b[1;32m   2056\u001b[0m \u001b[38;5;28;01melse\u001b[39;00m:              \u001b[38;5;66;03m# multiple match\u001b[39;00m\n\u001b[1;32m   2057\u001b[0m     \u001b[38;5;28;01mraise\u001b[39;00m \u001b[38;5;167;01mKeyError\u001b[39;00m(\u001b[38;5;124mf\u001b[39m\u001b[38;5;124m\"\u001b[39m\u001b[38;5;124mAmbiguous key name \u001b[39m\u001b[38;5;124m'\u001b[39m\u001b[38;5;132;01m{\u001b[39;00mkey\u001b[38;5;132;01m}\u001b[39;00m\u001b[38;5;124m'\u001b[39m\u001b[38;5;124m.\u001b[39m\u001b[38;5;124m\"\u001b[39m)\n",
      "\u001b[0;31mKeyError\u001b[0m: \"Key 'WAVELENGTH' does not exist.\""
     ]
    }
   ],
   "source": [
    "#Read in FITS data containing spectrum.\n",
    "infile='FZTau.fits'     \n",
    "#infile2='CITau.fits'    #these are the only 3 with our target regime\n",
    "#infile3='IQTau.fits'\n",
    "\n",
    " \n",
    "hdulist=fits.open(infile)\n",
    "data=hdulist[1].data\n",
    "wave=data['WAVELENGTH'][0]*1/e-3\n",
    "flux=data['FLUX'][0]"
   ]
  },
  {
   "cell_type": "code",
   "execution_count": 11,
   "metadata": {},
   "outputs": [
    {
     "name": "stdout",
     "output_type": "stream",
     "text": [
      "\n",
      "\n",
      "\n"
     ]
    },
    {
     "ename": "FileNotFoundError",
     "evalue": "[Errno 2] No such file or directory: 'C:/Users/bbrad/Desktop/reducs22.tar/FZTau_orders.fits'",
     "output_type": "error",
     "traceback": [
      "\u001b[0;31m---------------------------------------------------------------------------\u001b[0m",
      "\u001b[0;31mFileNotFoundError\u001b[0m                         Traceback (most recent call last)",
      "Input \u001b[0;32mIn [11]\u001b[0m, in \u001b[0;36m<cell line: 1>\u001b[0;34m()\u001b[0m\n\u001b[1;32m      5\u001b[0m \u001b[38;5;66;03m#Read in FITS data containing spectrum.\u001b[39;00m\n\u001b[1;32m      6\u001b[0m infile\u001b[38;5;241m=\u001b[39m\u001b[38;5;124m'\u001b[39m\u001b[38;5;124mC:/Users/bbrad/Desktop/reducs22.tar/\u001b[39m\u001b[38;5;124m'\u001b[39m\u001b[38;5;241m+\u001b[39mj\u001b[38;5;241m+\u001b[39m\u001b[38;5;124m'\u001b[39m\u001b[38;5;124m_orders.fits\u001b[39m\u001b[38;5;124m'\u001b[39m\n\u001b[0;32m----> 7\u001b[0m hdulist\u001b[38;5;241m=\u001b[39m\u001b[43mfits\u001b[49m\u001b[38;5;241;43m.\u001b[39;49m\u001b[43mopen\u001b[49m\u001b[43m(\u001b[49m\u001b[43minfile\u001b[49m\u001b[43m)\u001b[49m\n\u001b[1;32m      8\u001b[0m data\u001b[38;5;241m=\u001b[39mhdulist[\u001b[38;5;241m1\u001b[39m]\u001b[38;5;241m.\u001b[39mdata\n\u001b[1;32m      9\u001b[0m wave\u001b[38;5;241m=\u001b[39mdata[\u001b[38;5;124m'\u001b[39m\u001b[38;5;124mwave\u001b[39m\u001b[38;5;124m'\u001b[39m]\u001b[38;5;241m*\u001b[39m\u001b[38;5;241m1e-3\u001b[39m\n",
      "File \u001b[0;32m~/opt/anaconda3/lib/python3.9/site-packages/astropy/io/fits/hdu/hdulist.py:176\u001b[0m, in \u001b[0;36mfitsopen\u001b[0;34m(name, mode, memmap, save_backup, cache, lazy_load_hdus, ignore_missing_simple, **kwargs)\u001b[0m\n\u001b[1;32m    173\u001b[0m \u001b[38;5;28;01mif\u001b[39;00m \u001b[38;5;129;01mnot\u001b[39;00m name:\n\u001b[1;32m    174\u001b[0m     \u001b[38;5;28;01mraise\u001b[39;00m \u001b[38;5;167;01mValueError\u001b[39;00m(\u001b[38;5;124mf\u001b[39m\u001b[38;5;124m'\u001b[39m\u001b[38;5;124mEmpty filename: \u001b[39m\u001b[38;5;132;01m{\u001b[39;00mname\u001b[38;5;132;01m!r}\u001b[39;00m\u001b[38;5;124m'\u001b[39m)\n\u001b[0;32m--> 176\u001b[0m \u001b[38;5;28;01mreturn\u001b[39;00m \u001b[43mHDUList\u001b[49m\u001b[38;5;241;43m.\u001b[39;49m\u001b[43mfromfile\u001b[49m\u001b[43m(\u001b[49m\u001b[43mname\u001b[49m\u001b[43m,\u001b[49m\u001b[43m \u001b[49m\u001b[43mmode\u001b[49m\u001b[43m,\u001b[49m\u001b[43m \u001b[49m\u001b[43mmemmap\u001b[49m\u001b[43m,\u001b[49m\u001b[43m \u001b[49m\u001b[43msave_backup\u001b[49m\u001b[43m,\u001b[49m\u001b[43m \u001b[49m\u001b[43mcache\u001b[49m\u001b[43m,\u001b[49m\n\u001b[1;32m    177\u001b[0m \u001b[43m                        \u001b[49m\u001b[43mlazy_load_hdus\u001b[49m\u001b[43m,\u001b[49m\u001b[43m \u001b[49m\u001b[43mignore_missing_simple\u001b[49m\u001b[43m,\u001b[49m\u001b[43m \u001b[49m\u001b[38;5;241;43m*\u001b[39;49m\u001b[38;5;241;43m*\u001b[39;49m\u001b[43mkwargs\u001b[49m\u001b[43m)\u001b[49m\n",
      "File \u001b[0;32m~/opt/anaconda3/lib/python3.9/site-packages/astropy/io/fits/hdu/hdulist.py:411\u001b[0m, in \u001b[0;36mHDUList.fromfile\u001b[0;34m(cls, fileobj, mode, memmap, save_backup, cache, lazy_load_hdus, ignore_missing_simple, **kwargs)\u001b[0m\n\u001b[1;32m    399\u001b[0m \u001b[38;5;129m@classmethod\u001b[39m\n\u001b[1;32m    400\u001b[0m \u001b[38;5;28;01mdef\u001b[39;00m \u001b[38;5;21mfromfile\u001b[39m(\u001b[38;5;28mcls\u001b[39m, fileobj, mode\u001b[38;5;241m=\u001b[39m\u001b[38;5;28;01mNone\u001b[39;00m, memmap\u001b[38;5;241m=\u001b[39m\u001b[38;5;28;01mNone\u001b[39;00m,\n\u001b[1;32m    401\u001b[0m              save_backup\u001b[38;5;241m=\u001b[39m\u001b[38;5;28;01mFalse\u001b[39;00m, cache\u001b[38;5;241m=\u001b[39m\u001b[38;5;28;01mTrue\u001b[39;00m, lazy_load_hdus\u001b[38;5;241m=\u001b[39m\u001b[38;5;28;01mTrue\u001b[39;00m,\n\u001b[1;32m    402\u001b[0m              ignore_missing_simple\u001b[38;5;241m=\u001b[39m\u001b[38;5;28;01mFalse\u001b[39;00m, \u001b[38;5;241m*\u001b[39m\u001b[38;5;241m*\u001b[39mkwargs):\n\u001b[1;32m    403\u001b[0m     \u001b[38;5;124;03m\"\"\"\u001b[39;00m\n\u001b[1;32m    404\u001b[0m \u001b[38;5;124;03m    Creates an `HDUList` instance from a file-like object.\u001b[39;00m\n\u001b[1;32m    405\u001b[0m \n\u001b[0;32m   (...)\u001b[0m\n\u001b[1;32m    408\u001b[0m \u001b[38;5;124;03m    documentation for details of the parameters accepted by this method).\u001b[39;00m\n\u001b[1;32m    409\u001b[0m \u001b[38;5;124;03m    \"\"\"\u001b[39;00m\n\u001b[0;32m--> 411\u001b[0m     \u001b[38;5;28;01mreturn\u001b[39;00m \u001b[38;5;28;43mcls\u001b[39;49m\u001b[38;5;241;43m.\u001b[39;49m\u001b[43m_readfrom\u001b[49m\u001b[43m(\u001b[49m\u001b[43mfileobj\u001b[49m\u001b[38;5;241;43m=\u001b[39;49m\u001b[43mfileobj\u001b[49m\u001b[43m,\u001b[49m\u001b[43m \u001b[49m\u001b[43mmode\u001b[49m\u001b[38;5;241;43m=\u001b[39;49m\u001b[43mmode\u001b[49m\u001b[43m,\u001b[49m\u001b[43m \u001b[49m\u001b[43mmemmap\u001b[49m\u001b[38;5;241;43m=\u001b[39;49m\u001b[43mmemmap\u001b[49m\u001b[43m,\u001b[49m\n\u001b[1;32m    412\u001b[0m \u001b[43m                         \u001b[49m\u001b[43msave_backup\u001b[49m\u001b[38;5;241;43m=\u001b[39;49m\u001b[43msave_backup\u001b[49m\u001b[43m,\u001b[49m\u001b[43m \u001b[49m\u001b[43mcache\u001b[49m\u001b[38;5;241;43m=\u001b[39;49m\u001b[43mcache\u001b[49m\u001b[43m,\u001b[49m\n\u001b[1;32m    413\u001b[0m \u001b[43m                         \u001b[49m\u001b[43mignore_missing_simple\u001b[49m\u001b[38;5;241;43m=\u001b[39;49m\u001b[43mignore_missing_simple\u001b[49m\u001b[43m,\u001b[49m\n\u001b[1;32m    414\u001b[0m \u001b[43m                         \u001b[49m\u001b[43mlazy_load_hdus\u001b[49m\u001b[38;5;241;43m=\u001b[39;49m\u001b[43mlazy_load_hdus\u001b[49m\u001b[43m,\u001b[49m\u001b[43m \u001b[49m\u001b[38;5;241;43m*\u001b[39;49m\u001b[38;5;241;43m*\u001b[39;49m\u001b[43mkwargs\u001b[49m\u001b[43m)\u001b[49m\n",
      "File \u001b[0;32m~/opt/anaconda3/lib/python3.9/site-packages/astropy/io/fits/hdu/hdulist.py:1071\u001b[0m, in \u001b[0;36mHDUList._readfrom\u001b[0;34m(cls, fileobj, data, mode, memmap, cache, lazy_load_hdus, ignore_missing_simple, **kwargs)\u001b[0m\n\u001b[1;32m   1068\u001b[0m \u001b[38;5;28;01mif\u001b[39;00m fileobj \u001b[38;5;129;01mis\u001b[39;00m \u001b[38;5;129;01mnot\u001b[39;00m \u001b[38;5;28;01mNone\u001b[39;00m:\n\u001b[1;32m   1069\u001b[0m     \u001b[38;5;28;01mif\u001b[39;00m \u001b[38;5;129;01mnot\u001b[39;00m \u001b[38;5;28misinstance\u001b[39m(fileobj, _File):\n\u001b[1;32m   1070\u001b[0m         \u001b[38;5;66;03m# instantiate a FITS file object (ffo)\u001b[39;00m\n\u001b[0;32m-> 1071\u001b[0m         fileobj \u001b[38;5;241m=\u001b[39m \u001b[43m_File\u001b[49m\u001b[43m(\u001b[49m\u001b[43mfileobj\u001b[49m\u001b[43m,\u001b[49m\u001b[43m \u001b[49m\u001b[43mmode\u001b[49m\u001b[38;5;241;43m=\u001b[39;49m\u001b[43mmode\u001b[49m\u001b[43m,\u001b[49m\u001b[43m \u001b[49m\u001b[43mmemmap\u001b[49m\u001b[38;5;241;43m=\u001b[39;49m\u001b[43mmemmap\u001b[49m\u001b[43m,\u001b[49m\u001b[43m \u001b[49m\u001b[43mcache\u001b[49m\u001b[38;5;241;43m=\u001b[39;49m\u001b[43mcache\u001b[49m\u001b[43m)\u001b[49m\n\u001b[1;32m   1072\u001b[0m     \u001b[38;5;66;03m# The Astropy mode is determined by the _File initializer if the\u001b[39;00m\n\u001b[1;32m   1073\u001b[0m     \u001b[38;5;66;03m# supplied mode was None\u001b[39;00m\n\u001b[1;32m   1074\u001b[0m     mode \u001b[38;5;241m=\u001b[39m fileobj\u001b[38;5;241m.\u001b[39mmode\n",
      "File \u001b[0;32m~/opt/anaconda3/lib/python3.9/site-packages/astropy/utils/decorators.py:546\u001b[0m, in \u001b[0;36mdeprecated_renamed_argument.<locals>.decorator.<locals>.wrapper\u001b[0;34m(*args, **kwargs)\u001b[0m\n\u001b[1;32m    543\u001b[0m             msg \u001b[38;5;241m+\u001b[39m\u001b[38;5;241m=\u001b[39m \u001b[38;5;124mf\u001b[39m\u001b[38;5;124m'\u001b[39m\u001b[38;5;130;01m\\n\u001b[39;00m\u001b[38;5;124m        Use \u001b[39m\u001b[38;5;132;01m{\u001b[39;00malternative\u001b[38;5;132;01m}\u001b[39;00m\u001b[38;5;124m instead.\u001b[39m\u001b[38;5;124m'\u001b[39m\n\u001b[1;32m    544\u001b[0m         warnings\u001b[38;5;241m.\u001b[39mwarn(msg, warning_type, stacklevel\u001b[38;5;241m=\u001b[39m\u001b[38;5;241m2\u001b[39m)\n\u001b[0;32m--> 546\u001b[0m \u001b[38;5;28;01mreturn\u001b[39;00m \u001b[43mfunction\u001b[49m\u001b[43m(\u001b[49m\u001b[38;5;241;43m*\u001b[39;49m\u001b[43margs\u001b[49m\u001b[43m,\u001b[49m\u001b[43m \u001b[49m\u001b[38;5;241;43m*\u001b[39;49m\u001b[38;5;241;43m*\u001b[39;49m\u001b[43mkwargs\u001b[49m\u001b[43m)\u001b[49m\n",
      "File \u001b[0;32m~/opt/anaconda3/lib/python3.9/site-packages/astropy/io/fits/file.py:175\u001b[0m, in \u001b[0;36m_File.__init__\u001b[0;34m(self, fileobj, mode, memmap, overwrite, cache)\u001b[0m\n\u001b[1;32m    173\u001b[0m     \u001b[38;5;28mself\u001b[39m\u001b[38;5;241m.\u001b[39m_open_fileobj(fileobj, mode, overwrite)\n\u001b[1;32m    174\u001b[0m \u001b[38;5;28;01melif\u001b[39;00m \u001b[38;5;28misinstance\u001b[39m(fileobj, (\u001b[38;5;28mstr\u001b[39m, \u001b[38;5;28mbytes\u001b[39m)):\n\u001b[0;32m--> 175\u001b[0m     \u001b[38;5;28;43mself\u001b[39;49m\u001b[38;5;241;43m.\u001b[39;49m\u001b[43m_open_filename\u001b[49m\u001b[43m(\u001b[49m\u001b[43mfileobj\u001b[49m\u001b[43m,\u001b[49m\u001b[43m \u001b[49m\u001b[43mmode\u001b[49m\u001b[43m,\u001b[49m\u001b[43m \u001b[49m\u001b[43moverwrite\u001b[49m\u001b[43m)\u001b[49m\n\u001b[1;32m    176\u001b[0m \u001b[38;5;28;01melse\u001b[39;00m:\n\u001b[1;32m    177\u001b[0m     \u001b[38;5;28mself\u001b[39m\u001b[38;5;241m.\u001b[39m_open_filelike(fileobj, mode, overwrite)\n",
      "File \u001b[0;32m~/opt/anaconda3/lib/python3.9/site-packages/astropy/io/fits/file.py:564\u001b[0m, in \u001b[0;36m_File._open_filename\u001b[0;34m(self, filename, mode, overwrite)\u001b[0m\n\u001b[1;32m    561\u001b[0m ext \u001b[38;5;241m=\u001b[39m os\u001b[38;5;241m.\u001b[39mpath\u001b[38;5;241m.\u001b[39msplitext(\u001b[38;5;28mself\u001b[39m\u001b[38;5;241m.\u001b[39mname)[\u001b[38;5;241m1\u001b[39m]\n\u001b[1;32m    563\u001b[0m \u001b[38;5;28;01mif\u001b[39;00m \u001b[38;5;129;01mnot\u001b[39;00m \u001b[38;5;28mself\u001b[39m\u001b[38;5;241m.\u001b[39m_try_read_compressed(\u001b[38;5;28mself\u001b[39m\u001b[38;5;241m.\u001b[39mname, magic, mode, ext\u001b[38;5;241m=\u001b[39mext):\n\u001b[0;32m--> 564\u001b[0m     \u001b[38;5;28mself\u001b[39m\u001b[38;5;241m.\u001b[39m_file \u001b[38;5;241m=\u001b[39m \u001b[43mfileobj_open\u001b[49m\u001b[43m(\u001b[49m\u001b[38;5;28;43mself\u001b[39;49m\u001b[38;5;241;43m.\u001b[39;49m\u001b[43mname\u001b[49m\u001b[43m,\u001b[49m\u001b[43m \u001b[49m\u001b[43mIO_FITS_MODES\u001b[49m\u001b[43m[\u001b[49m\u001b[43mmode\u001b[49m\u001b[43m]\u001b[49m\u001b[43m)\u001b[49m\n\u001b[1;32m    565\u001b[0m     \u001b[38;5;28mself\u001b[39m\u001b[38;5;241m.\u001b[39mclose_on_error \u001b[38;5;241m=\u001b[39m \u001b[38;5;28;01mTrue\u001b[39;00m\n\u001b[1;32m    567\u001b[0m \u001b[38;5;66;03m# Make certain we're back at the beginning of the file\u001b[39;00m\n\u001b[1;32m    568\u001b[0m \u001b[38;5;66;03m# BZ2File does not support seek when the file is open for writing, but\u001b[39;00m\n\u001b[1;32m    569\u001b[0m \u001b[38;5;66;03m# when opening a file for write, bz2.BZ2File always truncates anyway.\u001b[39;00m\n",
      "File \u001b[0;32m~/opt/anaconda3/lib/python3.9/site-packages/astropy/io/fits/util.py:388\u001b[0m, in \u001b[0;36mfileobj_open\u001b[0;34m(filename, mode)\u001b[0m\n\u001b[1;32m    378\u001b[0m \u001b[38;5;28;01mdef\u001b[39;00m \u001b[38;5;21mfileobj_open\u001b[39m(filename, mode):\n\u001b[1;32m    379\u001b[0m     \u001b[38;5;124;03m\"\"\"\u001b[39;00m\n\u001b[1;32m    380\u001b[0m \u001b[38;5;124;03m    A wrapper around the `open()` builtin.\u001b[39;00m\n\u001b[1;32m    381\u001b[0m \n\u001b[0;32m   (...)\u001b[0m\n\u001b[1;32m    385\u001b[0m \u001b[38;5;124;03m    a raw random-access file reader.\u001b[39;00m\n\u001b[1;32m    386\u001b[0m \u001b[38;5;124;03m    \"\"\"\u001b[39;00m\n\u001b[0;32m--> 388\u001b[0m     \u001b[38;5;28;01mreturn\u001b[39;00m \u001b[38;5;28;43mopen\u001b[39;49m\u001b[43m(\u001b[49m\u001b[43mfilename\u001b[49m\u001b[43m,\u001b[49m\u001b[43m \u001b[49m\u001b[43mmode\u001b[49m\u001b[43m,\u001b[49m\u001b[43m \u001b[49m\u001b[43mbuffering\u001b[49m\u001b[38;5;241;43m=\u001b[39;49m\u001b[38;5;241;43m0\u001b[39;49m\u001b[43m)\u001b[49m\n",
      "\u001b[0;31mFileNotFoundError\u001b[0m: [Errno 2] No such file or directory: 'C:/Users/bbrad/Desktop/reducs22.tar/FZTau_orders.fits'"
     ]
    }
   ],
   "source": [
    "for j in ['FZTau','CITau','IQTau']:\n",
    "    \n",
    "    print('\\n\\n') # creates space between subplots\n",
    "    \n",
    "    #Read in FITS data containing spectrum.\n",
    "    infile='C:/Users/bbrad/Desktop/reducs22.tar/'+j+'_orders.fits'\n",
    "    hdulist=fits.open(infile)\n",
    "    data=hdulist[1].data\n",
    "    wave=data['wave']*1e-3\n",
    "    flux=data['flux']\n",
    "\n",
    "\n",
    "# I wanted to add a third subplot for the new order but I found that having multiple subplots with separate axis limits\n",
    "# causes some weird (but well-documented) scaling issues in the final figure. I removed the axis limits by sorting the data\n",
    "# into orders in Pandas DataFrames. That way, the plots would generate their own x limits. This seemed to fix the scaling issue\n",
    "# and helped me get a little better at using Matplotlib.\n",
    "\n",
    "\n",
    "\n",
    "    # Making the data into floats so that it plays nicely with Pandas:\n",
    "    float_waves  = []\n",
    "    float_fluxes = []\n",
    "    for i in wave:\n",
    "        float_waves.append(float(i))\n",
    "    for i in flux:\n",
    "        float_fluxes.append(float(i))\n",
    "\n",
    "    # Building a DataFrame\n",
    "    all_data     = pd.DataFrame(data={'wave':np.array(float_waves),'flux':np.array(float_fluxes)}).dropna().sort_values(by='wave').reset_index(drop=True)\n",
    "    first_order  = all_data.loc[all_data['wave']<0.0049]\n",
    "    second_order = all_data.loc[all_data['wave']>=0.0049].loc[all_data['wave']<0.0052]\n",
    "    third_order  = all_data.loc[all_data['wave']>=0.0052]\n",
    "\n",
    "    first_order_wave  = np.array(first_order['wave'])\n",
    "    second_order_wave = np.array(second_order['wave'])\n",
    "    third_order_wave  = np.array(third_order['wave'])\n",
    "    first_order_flux  = np.array(first_order['flux'])\n",
    "    second_order_flux = np.array(second_order['flux'])\n",
    "    third_order_flux  = np.array(third_order['flux'])\n",
    "\n",
    "    #Plot spectrum.\n",
    "\n",
    "    fig=plt.figure(figsize=(16,9))\n",
    "    \n",
    "    fig.suptitle('Spectrum of '+j,fontsize=22)\n",
    "\n",
    "    ax1=fig.add_subplot(311)\n",
    "    ax1.plot(first_order_wave*1e3,first_order_flux)\n",
    "    #ax1.set_xlim(4.64,4.78)\n",
    "    for i,mywave in enumerate(hitran_data['wave']):\n",
    "        if( (mywave>4.64) & (mywave<4.83) ):\n",
    "            ax1.axvline(mywave,color='C1')\n",
    "            ax1.text(hitran_data['wave'][i],1.4,hitran_data['Qpp'][i].strip())\n",
    "    ax1.set_xlabel('Wavelength [$\\mu$m]',fontsize=14)\n",
    "    ax1.set_ylabel('Flux [Jy]',fontsize=14)\n",
    "\n",
    "    ax2=fig.add_subplot(312)\n",
    "    ax2.plot(second_order_wave*1e3,second_order_flux)\n",
    "    #ax2.set_xlim(4.8,4.92)\n",
    "    for i,mywave in enumerate(hitran_data['wave']):\n",
    "        if( (mywave>4.95) & (mywave<5.16) ):\n",
    "            ax2.axvline(mywave,color='C1')\n",
    "            ax2.text(hitran_data['wave'][i],1.4,hitran_data['Qpp'][i].strip())\n",
    "    ax2.set_xlabel('Wavelength [$\\mu$m]',fontsize=14)\n",
    "    ax2.set_ylabel('Flux [Jy]',fontsize=14)    \n",
    "    \n",
    "    if len(third_order_wave) != 0:\n",
    "        ax3=fig.add_subplot(313)\n",
    "        ax3.plot(third_order_wave*1e3,third_order_flux)\n",
    "        #ax3.set_xlim(5.3,5.42)\n",
    "        for i,mywave in enumerate(hitran_data['wave']):\n",
    "            if( (mywave>5.3) & (mywave<5.42) ):\n",
    "                ax3.axvline(mywave,color='C1')\n",
    "                ax3.text(hitran_data['wave'][i],1.4,hitran_data['Qpp'][i].strip())\n",
    "        for i,mywave in enumerate(hitran_water['wave']):\n",
    "            if( (mywave>5.3) & (mywave<5.42) ):\n",
    "                ax3.axvline(mywave,color='m')\n",
    "                ax3.text(hitran_water['wave'][i],1.4,hitran_water['Qpp'][i].strip())\n",
    "        ax3.legend([Line2D([0], [0], color='C1', lw=4), Line2D([0], [0], color='m', lw=4)], ['CO Spectral Lines', 'H2O Spectral Lines'], loc='lower left')\n",
    "        ax3.set_xlabel('Wavelength [$\\mu$m]',fontsize=14)\n",
    "        ax3.set_ylabel('Flux [Jy]',fontsize=14)\n",
    "        plt.xticks(ticks=arange(5.3,5.43,0.01))\n",
    "\n",
    "\n",
    "    plt.tight_layout()\n",
    "    \n",
    "    \n",
    "    plt.show()\n",
    "    \n",
    "    print('\\n\\n---------------------------------------------------------------------------------------------------------------\\n\\n')"
   ]
  },
  {
   "cell_type": "code",
   "execution_count": null,
   "metadata": {},
   "outputs": [],
   "source": [
    "#Plot spectrum.\n",
    "fig=plt.figure(figsize=(12,6))   # creating a plot \n",
    "\n",
    "ax1=fig.add_subplot(211)         #creating a subplot\n",
    "ax2=fig.add_subplot(211)\n",
    "ax3=fig.add_subplot(211)\n",
    "ax1.plot(wave,flux)              #plotting the wave vs the flux on the subplot just created \n",
    "ax1.set_xlim(4.64,4.78)          #setting the limits of the axis to a range which we can \n",
    "for i,mywave in enumerate(hitran_data['wave']):\n",
    "    if( (mywave>4.64) & (mywave<4.78) ):\n",
    "        ax1.axvline(mywave,color='C1')\n",
    "        ax1.text(hitran_data['wave'][i],1.4,hitran_data['Qpp'][i].strip())\n",
    "ax1.set_ylabel('Flux [Jy]',fontsize=14)\n",
    "\n",
    "ax2=fig.add_subplot(212)         #creating a second subplot for the second wavelength range\n",
    "ax2.plot(wave,flux)              #plotting the wave vs the flux on the subplot just created \n",
    "ax2.set_xlim(4.8,4.92)\n",
    "for i,mywave in enumerate(hitran_data['wave']):\n",
    "    if( (mywave>4.8) & (mywave<4.92) ):\n",
    "        ax2.axvline(mywave,color='C1')\n",
    "        ax2.text(hitran_data['wave'][i],1.4,hitran_data['Qpp'][i].strip())\n",
    "ax2.set_xlabel('Wavelength [$\\mu$m]',fontsize=14)\n",
    "ax2.set_ylabel('Flux [Jy]',fontsize=14)"
   ]
  },
  {
   "cell_type": "markdown",
   "metadata": {},
   "source": [
    "### Calculate line fluxes for dataset, using locations specified in hitran dataset"
   ]
  },
  {
   "cell_type": "markdown",
   "metadata": {},
   "source": [
    "calc_fluxes is now used to compute the line fluxes in the spectrum.  (Some additional code is added to read and write in the flux values for use in later parts of this notebook.)  Users can provide input values of the continuum level (cont), FWHM (fwhm_v) and Doppler shift of lines relative to vacuum rest wavelength (v_dop).  Users can also choose the size of the fit interval (sep_v), whether or not to vet the fits (vet_fits; highly recommended) and whether or not to plot (highly recommended).   The routine does little to no vetting on its own, so user vetting is highly recommended."
   ]
  },
  {
   "cell_type": "code",
   "execution_count": null,
   "metadata": {},
   "outputs": [],
   "source": [
    "#Calculate fluxes.\n",
    "#Uncomment the following two lines to run the code\n",
    "#lineflux_data=calc_fluxes(wave,flux,hitran_data, v_dop=0,fwhm_v=40.,sep_v=200.,cont=1.05,vet_fits=True, plot=True)\n",
    "#pickle.dump(lineflux_data,open('lineflux_data.p','wb')) #save for convenience\n",
    "\n",
    "lineflux_data=pickle.load(open('lineflux_data.p','rb'))  #restore lineflux_data if you don't want to re-run"
   ]
  },
  {
   "cell_type": "markdown",
   "metadata": {},
   "source": [
    "Note that flux_calculator calculates fluxes using both a Gaussian fit and numerical integration.  The numerical integration sums from -3$\\sigma$ to +3$\\sigma$, where $\\sigma$ is provided by the Gaussian fit. These values should be similar for Gaussian line shapes, but may be quite different for more complex line shapes, as for AA Tau. \n",
    "\n",
    "The figure below shows how the two compare for this example."
   ]
  },
  {
   "cell_type": "code",
   "execution_count": null,
   "metadata": {},
   "outputs": [],
   "source": [
    "lineflux_data"
   ]
  },
  {
   "cell_type": "code",
   "execution_count": null,
   "metadata": {},
   "outputs": [],
   "source": [
    "fig=plt.figure()\n",
    "ax1=fig.add_subplot(111)\n",
    "ax1.plot(lineflux_data['wave'],lineflux_data['lineflux']*1e16, label='Numerical flux')\n",
    "ax1.plot(lineflux_data['wave'],lineflux_data['lineflux_Gaussian']*1e16 ,label='Gaussian flux')\n",
    "ax1.legend()\n",
    "ax1.set_xlabel('Wavelength [microns]')\n",
    "ax1.set_ylabel(r'Line flux [10$^{-16}$ W m$^{-2}$]')"
   ]
  },
  {
   "cell_type": "markdown",
   "metadata": {},
   "source": [
    "Note that, although calc_fluxes takes a full \"hitran_data\" table as input, the most minimal table it can function with is one that just contains a column named \"wave\", which holds wavelengths in microns."
   ]
  },
  {
   "cell_type": "code",
   "execution_count": null,
   "metadata": {},
   "outputs": [],
   "source": [
    "#Create minimal hitran database for testing.  It only includes wavelengths.\n",
    "test_hitran_data=hitran_data[['wave']].copy()\n",
    "\n",
    "test_lineflux_data=calc_fluxes(wave,flux,test_hitran_data,v_dop=0,fwhm_v=40.,sep_v=200.,cont=1.05,vet_fits=True, plot=True)"
   ]
  },
  {
   "cell_type": "markdown",
   "metadata": {},
   "source": [
    "You get out what you put in, though, so your output table will only have wavelengths and fit parameters (no HITRAN transition information)."
   ]
  },
  {
   "cell_type": "code",
   "execution_count": null,
   "metadata": {},
   "outputs": [],
   "source": [
    "test_lineflux_data"
   ]
  },
  {
   "cell_type": "markdown",
   "metadata": {},
   "source": [
    "### Create a composite lineshape using info from flux_calculator output"
   ]
  },
  {
   "cell_type": "markdown",
   "metadata": {},
   "source": [
    "Flux calculator also has a routine that can make a composite lineshape from calc_fluxes output."
   ]
  },
  {
   "cell_type": "code",
   "execution_count": null,
   "metadata": {},
   "outputs": [],
   "source": [
    "lineshape_data=make_lineshape(wave,flux,lineflux_data)"
   ]
  },
  {
   "cell_type": "code",
   "execution_count": null,
   "metadata": {},
   "outputs": [],
   "source": [
    "fig=plt.figure()\n",
    "ax1=fig.add_subplot(111)\n",
    "ax1.plot(lineshape_data[0],lineshape_data[1])\n",
    "\n",
    "ax1.set_xlabel('Velocity [km/s]')\n",
    "ax1.set_ylabel('Arbitrary flux')"
   ]
  },
  {
   "cell_type": "markdown",
   "metadata": {},
   "source": [
    "As with calc_fluxes, the routine can work with a minimal input table that includes a column named 'wave'."
   ]
  },
  {
   "cell_type": "code",
   "execution_count": null,
   "metadata": {},
   "outputs": [],
   "source": [
    "lineflux_data_minimal=lineflux_data['wave'].copy()\n",
    "lineshape_data_minimal=make_lineshape(wave,flux,lineflux_data)\n",
    "\n",
    "fig=plt.figure()\n",
    "ax1=fig.add_subplot(111)\n",
    "ax1.plot(lineshape_data_minimal[0],lineshape_data_minimal[1])\n",
    "\n",
    "ax1.set_xlabel('Velocity [km/s]')\n",
    "ax1.set_ylabel('Arbitrary flux')"
   ]
  },
  {
   "cell_type": "markdown",
   "metadata": {},
   "source": [
    "### Display resultant fluxes in a rotation diagram"
   ]
  },
  {
   "cell_type": "markdown",
   "metadata": {},
   "source": [
    "Spectools_ir.utils has a function to make a rotation diagram, which can use calc_fluxes output as its dataset.  This example compares rotation diagrams for the Gaussian and numerical fluxes.\n",
    "\n",
    "make_rotation_diagrams has a \"units\" keyword with values 'mks' (SI), 'cgs', or 'mixed'. Based on some precedent in the literature, 'mixed' units keeps most values in SI units, but wavenumbers in inverse cm."
   ]
  },
  {
   "cell_type": "code",
   "execution_count": null,
   "metadata": {},
   "outputs": [],
   "source": [
    "rot_numerical=make_rotation_diagram(lineflux_data,fluxkey='lineflux')\n",
    "rot_Gaussian=make_rotation_diagram(lineflux_data,fluxkey='lineflux_Gaussian')\n",
    "\n",
    "fig=plt.figure()\n",
    "ax1=fig.add_subplot(111)\n",
    "ax1.plot(rot_numerical['x'],rot_numerical['y'],'C0o',label='Numerical fit')\n",
    "ax1.plot(rot_Gaussian['x'],rot_Gaussian['y'],'C1o', label='Gaussian fit')\n",
    "\n",
    "ax1.set_xlabel('Eup [K]')\n",
    "ax1.set_ylabel(r'ln(F/(gA$\\tilde{\\nu}$))')\n",
    "ax1.legend()"
   ]
  },
  {
   "cell_type": "markdown",
   "metadata": {},
   "source": [
    "# Slabspec example use"
   ]
  },
  {
   "cell_type": "markdown",
   "metadata": {},
   "source": [
    "Slabspec makes a model spectrum from a \"slab\" of gas - a column of gas with defined area, column density, and (single) temperature. The example below shows the creation of a CO spectrum from 4.58 to 5.2 microns.  Units are assumed to be SI (mks).  If convol_fwhm is specified, the model output will be convolved with a Gaussian with the given FWHM value (in km/s).  Both the convolved and unconvolved spectra are included in the output.\n",
    "\n",
    "**Important note**: The model can produce wonky output if the model resolution ('res' parameter: resolution in microns) is not sufficient.  It's highly recommended that one check the output of a model against a model with higher resolution to make sure the output remains the same."
   ]
  },
  {
   "cell_type": "markdown",
   "metadata": {},
   "source": [
    "### Make a slab model spectrum with make_spec"
   ]
  },
  {
   "cell_type": "code",
   "execution_count": null,
   "metadata": {},
   "outputs": [],
   "source": [
    "au=1.5e11\n",
    "#Make slab model\n",
    "#This can take a few seconds to run.  It is primarily limited by the convolution time.\n",
    "model_output=make_spec('CO',1e22,1000,np.pi*(0.3*au)**2., wmin=4.58,wmax=5.2,convol_fwhm=30.,d_pc=140.,res=1e-5,vup=1)"
   ]
  },
  {
   "cell_type": "code",
   "execution_count": null,
   "metadata": {},
   "outputs": [],
   "source": [
    "#Plot slab model\n",
    "fig=plt.figure(figsize=(10,3))\n",
    "ax1=fig.add_subplot(111)\n",
    "ax1.plot(model_output['spectrum']['wave'],model_output['spectrum']['flux']+1,label='Not convolved')\n",
    "ax1.plot(model_output['spectrum']['wave'],model_output['spectrum']['convolflux']+1,'r',label='Convolved')\n",
    "ax1.legend()"
   ]
  },
  {
   "cell_type": "markdown",
   "metadata": {},
   "source": [
    "### Output model fluxes as a rotation diagram (compare to data if desired)"
   ]
  },
  {
   "cell_type": "markdown",
   "metadata": {},
   "source": [
    "Output from slabspec can also be displayed as a rotation diagram."
   ]
  },
  {
   "cell_type": "code",
   "execution_count": null,
   "metadata": {},
   "outputs": [],
   "source": [
    "rd_model=make_rotation_diagram(model_output['lineparams'])\n",
    "rd_data=make_rotation_diagram(lineflux_data)"
   ]
  },
  {
   "cell_type": "code",
   "execution_count": null,
   "metadata": {},
   "outputs": [],
   "source": [
    "fig=plt.figure()\n",
    "ax1=fig.add_subplot(111)\n",
    "ax1.plot(rd_model['x'],rd_model['y'],' C0o',label='Model')\n",
    "ax1.plot(rd_data['x'],rd_data['y'],' C1*',label='Data')\n",
    "ax1.set_xlabel('Eup [K]')\n",
    "ax1.set_ylabel(r'ln(F/(gA$\\tilde{\\nu}$))')\n",
    "ax1.set_xlim(3000,4700)\n",
    "ax1.set_ylim(-57,-52.5)\n",
    "ax1.legend()"
   ]
  },
  {
   "cell_type": "markdown",
   "metadata": {},
   "source": [
    "# Slab_fitter example use"
   ]
  },
  {
   "cell_type": "markdown",
   "metadata": {},
   "source": [
    "slab_fitter uses the MCMC fitting code \"emcee\" to fit line fluxes with a slab model.  Priors are assumed to be flat, with boundaries provided by the user as input parameters.\n",
    "\n",
    "In contrast to the slab model, slab_fitter uses solid angle in place of area.  Helper functions calc_solid_angle(radius, distance) and calc_radius(solid_angle,distance) can be used to convert between the two.  Calculations assume a face-on disk shape."
   ]
  },
  {
   "cell_type": "markdown",
   "metadata": {},
   "source": [
    "### Set up configuration"
   ]
  },
  {
   "cell_type": "markdown",
   "metadata": {},
   "source": [
    "Configuration parameters are all stored in config.json, or another user-specified json file.  User must specify the range of temperatures, column densities, and solid angles, the number of walkers, the number of burnin samples, and the number of samples per walker.\n",
    "\n",
    "slab_fitter naturally takes output of flux_calculator as input. (Other input examples are discussed below)."
   ]
  },
  {
   "cell_type": "code",
   "execution_count": null,
   "metadata": {},
   "outputs": [],
   "source": [
    "myconfig=Config()  #reads config.json by default, or can specify path to file as input parameter\n",
    "myconfig.display()\n",
    "\n",
    "data=lineflux_data\n",
    "\n",
    "mydata=LineData(data)\n",
    "myretrieval=Retrieval(myconfig,mydata)"
   ]
  },
  {
   "cell_type": "markdown",
   "metadata": {},
   "source": [
    "### Run retrieval"
   ]
  },
  {
   "cell_type": "markdown",
   "metadata": {},
   "source": [
    "Running the retrieval can take a significant amount of time, so only run when ready. (Code below currently takes 9 minutes on my personal laptop.)"
   ]
  },
  {
   "cell_type": "code",
   "execution_count": null,
   "metadata": {},
   "outputs": [],
   "source": [
    "#mychain=myretrieval.run_emcee()  #Run retrieval.  May take a while, depending on number of samples\n",
    "#pickle.dump(mychain,open('test_chain.p','wb'))  #Save for convenience and later retrieval\n",
    "#os.system('afplay /System/Library/Sounds/Sosumi.aiff')\n",
    "\n",
    "mychain=pickle.load(open('test_chain.p','rb'))  \n",
    "postsamples=get_samples(mychain,myconfig.getpar('Nburnin'))  #Get list of samples, after removing burnin, from chain"
   ]
  },
  {
   "cell_type": "markdown",
   "metadata": {},
   "source": [
    "### Evaluate retrieval results"
   ]
  },
  {
   "cell_type": "markdown",
   "metadata": {},
   "source": [
    "slab_fitter includes a few simple routines for evaluating and viewing the retrieval results.\n",
    "\n",
    "**Note:** The examples here are not necessarily well-behaved samples.  Users should refer to emcee documentation and other sources for more info about MCMC sample vetting."
   ]
  },
  {
   "cell_type": "code",
   "execution_count": null,
   "metadata": {},
   "outputs": [],
   "source": [
    "#Trace plot - examine samples\n",
    "trace_plot(postsamples)"
   ]
  },
  {
   "cell_type": "code",
   "execution_count": null,
   "metadata": {},
   "outputs": [],
   "source": [
    "#Corner plot - see posterior distributions\n",
    "fig=corner_plot(postsamples)"
   ]
  },
  {
   "cell_type": "code",
   "execution_count": null,
   "metadata": {},
   "outputs": [],
   "source": [
    "#Best fit parameters - best fit parameters plus/minus 1-sigma intervals\n",
    "best_fit=find_best_fit(postsamples,show=True)"
   ]
  },
  {
   "cell_type": "code",
   "execution_count": null,
   "metadata": {},
   "outputs": [],
   "source": [
    "#Rotation diagram\n",
    "modelflux=compute_model_fluxes(mydata,postsamples) #Compute model fluxes for ecah line in data\n",
    "rotdiag=mydata.rot_diagram(modelfluxes=modelflux,units='mks') #Rotation diagram for data and model\n",
    "\n",
    "fig=plt.figure()\n",
    "ax1=fig.add_subplot(111)\n",
    "ax1.plot(rotdiag['x'],rotdiag['modely'],'bo',label='Model')\n",
    "ax1.plot(rotdiag['x'],rotdiag['modely'],'b',label='_None_')\n",
    "ax1.plot(rotdiag['x'],rotdiag['y'],'ro',label='Data')\n",
    "\n",
    "ax1.set_xlabel('Upper Level Energy [Kelvin]')\n",
    "#ax1.set_ylabel(r'F[W m$^{-2}$]/($\\~{\\nu}$ [m$^{-1}$]g A[s$^{-1}$])',fontsize=14)\n",
    "ax1.set_ylabel(r'F]/($\\~{\\nu}$ g A)',fontsize=14)\n",
    "ax1.legend()"
   ]
  },
  {
   "cell_type": "markdown",
   "metadata": {},
   "source": [
    "While slab_fitter naturally works with flux_calculator output, the \"read_data_from_file\" routine is provided as a way to read a minimal column-delimited file, and output a slab_fitter-ready data frame.  A file must contain the columns:  'molec' (e.g., \"H2O\"), 'iso' (1 for most common, 2 for second most common, etc.),'lineflux' (W/m$^2$), 'error'  (W/m$^2$), and either 'wn'(cm$^{-1}$) or 'wave' (microns).  \n",
    "\n",
    "**Important note**: read_data_from_file will use your input molecular parameters and wavelength or wavenumber to find other transition parameters in the HITRAN database.  Since it has limited information, it simply finds the transition with the closest wavelength.  Therefore, the wavelengths must be precise.  It's a good idea to check the output before proceeding further, to make sure the transitions are what you expect."
   ]
  },
  {
   "cell_type": "code",
   "execution_count": null,
   "metadata": {},
   "outputs": [],
   "source": [
    "!cat 'slab_fitter_input.txt'  #This did not work initially, becuase I had just copied the text. How do I distinguish columns in .txt files?\n",
    "\n",
    "data=read_data_from_file('slab_fitter_input.txt')   "
   ]
  },
  {
   "cell_type": "code",
   "execution_count": null,
   "metadata": {},
   "outputs": [],
   "source": [
    "data  #Are these the transitions you want?"
   ]
  },
  {
   "cell_type": "code",
   "execution_count": null,
   "metadata": {},
   "outputs": [],
   "source": [
    "myconfig=Config()  #reads config.json by default, or can specify path to file\n",
    "myconfig.display()\n",
    "\n",
    "mydata=LineData(data)\n",
    "#myretrieval=Retrieval(myconfig,mydata)  #Commented out because this line of code takes a long time to run."
   ]
  },
  {
   "cell_type": "markdown",
   "metadata": {},
   "source": [
    "# Example use of some utils functions"
   ]
  },
  {
   "cell_type": "markdown",
   "metadata": {},
   "source": [
    "spectools_ir.utils contains a few other commonly-used utilities that one may find helpful for analyis of IR spectroscopy, including some routines specific to JWST-MIRI MRS."
   ]
  },
  {
   "cell_type": "markdown",
   "metadata": {},
   "source": [
    "### Extract HITRAN data for any molecule in the database"
   ]
  },
  {
   "cell_type": "code",
   "execution_count": null,
   "metadata": {},
   "outputs": [],
   "source": [
    "hitran_data=extract_hitran_data('CH3OH',10,11,isotopologue_number=1,eupmax=5000,aupmin=0.1)  #Outputs an astropy table"
   ]
  },
  {
   "cell_type": "code",
   "execution_count": null,
   "metadata": {},
   "outputs": [],
   "source": [
    "hitran_data"
   ]
  },
  {
   "cell_type": "markdown",
   "metadata": {},
   "source": [
    "### Convolve a spectrum with a Gaussian spectral response function"
   ]
  },
  {
   "cell_type": "markdown",
   "metadata": {},
   "source": [
    "Note: Convolving a spectrum is conceptually simple, but edge effects and NaNs in spectral data can cause headaches.  This routine deals nicely with both of those issues (though it's not fast)"
   ]
  },
  {
   "cell_type": "code",
   "execution_count": null,
   "metadata": {},
   "outputs": [],
   "source": [
    "au=1.5e11\n",
    "model_output=make_spec('CO',1e22,1000,np.pi*(0.3*au)**2., wmin=4.6,wmax=4.62,d_pc=140.,res=1e-5)\n",
    "wave=model_output['spectrum']['wave']\n",
    "flux=model_output['spectrum']['flux']\n",
    "convolflux=spec_convol(wave,flux,30.)  #Inputs: wavelength, flux, FWHM of Gaussian SRF in km/s"
   ]
  },
  {
   "cell_type": "code",
   "execution_count": null,
   "metadata": {},
   "outputs": [],
   "source": [
    "fig=plt.figure()\n",
    "ax1=fig.add_subplot(111)\n",
    "ax1.plot(wave,flux,label='Pre-convolved spectrum')\n",
    "ax1.plot(wave,convolflux,label='Convolved spectrum')\n",
    "ax1.set_xlabel(r'Wavelength [$\\mu$m]')\n",
    "ax1.set_ylabel('Flux [Jy]')\n",
    "ax1.legend()"
   ]
  },
  {
   "cell_type": "markdown",
   "metadata": {},
   "source": [
    "### Convolve spectrum with a wavelength-dependent SRF"
   ]
  },
  {
   "cell_type": "markdown",
   "metadata": {},
   "source": [
    "A utility function is provided that allows for a wavelength-dependent spectral response function (SRF).  Input spectral resolution must either be a single element (i.e., non wavelength-dependent) or have the same number of elements as the spectrum.  Note the resolution is given as $R = \\frac{\\lambda}{\\Delta \\lambda}$ rather than $v$ in this function."
   ]
  },
  {
   "cell_type": "code",
   "execution_count": null,
   "metadata": {},
   "outputs": [],
   "source": [
    "au=1.5e11\n",
    "model_output=make_spec('CO',1e22,1000,np.pi*(0.3*au)**2., wmin=4.6,wmax=4.62,d_pc=140.,res=1e-5)\n",
    "wave=model_output['spectrum']['wave']\n",
    "flux=model_output['spectrum']['flux']\n",
    "myR=np.linspace(10000,25000.,num=np.size(wave))\n",
    "convolflux=spec_convol_R(wave,flux,myR)  #Inputs: wavelength, flux, spectral resolution of Gaussian SRF\n",
    "                                         #myR must either have 1 value, or be an array of same size as wave and flux"
   ]
  },
  {
   "cell_type": "code",
   "execution_count": null,
   "metadata": {},
   "outputs": [],
   "source": [
    "fig=plt.figure()\n",
    "ax1=fig.add_subplot(111)\n",
    "ax1.plot(wave,flux,label='Pre-convolved spectrum')\n",
    "ax1.plot(wave,convolflux,label='Convolved spectrum')\n",
    "ax1.set_xlabel(r'Wavelength [$\\mu$m]')\n",
    "ax1.set_ylabel('Flux [Jy]')\n",
    "ax1.legend()\n",
    "\n",
    "#Note the wavelength-dependent line width"
   ]
  },
  {
   "cell_type": "markdown",
   "metadata": {},
   "source": [
    "### Some utility functions specific to JWST MIRI-MRS"
   ]
  },
  {
   "cell_type": "markdown",
   "metadata": {},
   "source": [
    "A simple routine is provided to approximate Figure 14 from Wells et al. 2015, which provides R as a function of wavelength.  This function utilizes linear approximations and should only be used as a rough reference."
   ]
  },
  {
   "cell_type": "code",
   "execution_count": null,
   "metadata": {},
   "outputs": [],
   "source": [
    "make_miri_mrs_figure(figsize=(7,3))"
   ]
  },
  {
   "cell_type": "markdown",
   "metadata": {},
   "source": [
    "get_miri_mrs_wavelengths provides the wavelength limits of an MRS sub-band"
   ]
  },
  {
   "cell_type": "code",
   "execution_count": null,
   "metadata": {},
   "outputs": [],
   "source": [
    "get_miri_mrs_wavelengths('1A')"
   ]
  },
  {
   "cell_type": "markdown",
   "metadata": {},
   "source": [
    "The covolution routine can be combined with slabspec output to create a model with a wavelength-dependent SRF"
   ]
  },
  {
   "cell_type": "code",
   "execution_count": null,
   "metadata": {},
   "outputs": [],
   "source": [
    "#Get resolution for a range of wavelengths and use as input to wavelength-dependent convolution\n",
    "au=1.5e11\n",
    "model_output=make_spec('CO',1e22,1000,np.pi*(0.3*au)**2., wmin=4.87,wmax=5.,d_pc=140.,res=1e-5)\n",
    "wave=model_output['spectrum']['wave']\n",
    "flux=model_output['spectrum']['flux']\n",
    "\n",
    "#Use get_miri_mrs_resolution to get wavelength resolution array\n",
    "myR=get_miri_mrs_resolution('1A',wave)\n",
    "\n",
    "convolflux=spec_convol_R(wave,flux,myR)  #Inputs: wavelength, flux, spectral resolution of Gaussian SRF\n",
    "                \n",
    "fig=plt.figure()\n",
    "ax1=fig.add_subplot(111)\n",
    "ax1.plot(wave,flux,label='Pre-convolved spectrum')\n",
    "ax1.plot(wave,convolflux,label='Convolved spectrum')\n",
    "ax1.set_xlabel(r'Wavelength [$\\mu$m]')\n",
    "ax1.set_ylabel('Flux [Jy]')\n",
    "ax1.legend()"
   ]
  },
  {
   "cell_type": "markdown",
   "metadata": {},
   "source": [
    "### Other small helper functions"
   ]
  },
  {
   "cell_type": "code",
   "execution_count": null,
   "metadata": {},
   "outputs": [],
   "source": [
    "print(sigma_to_fwhm(20.))\n",
    "\n",
    "print(fwhm_to_sigma(47.096))\n",
    "\n",
    "print(get_molmass('H2O',isotopologue_number=2))\n",
    "\n",
    "print(compute_thermal_velocity('H2',500.))\n",
    "print(compute_thermal_velocity('H2',1000.))\n",
    "\n",
    "print(wn_to_k(2000./u.cm))"
   ]
  },
  {
   "cell_type": "code",
   "execution_count": null,
   "metadata": {},
   "outputs": [],
   "source": []
  }
 ],
 "metadata": {
  "kernelspec": {
   "display_name": "Python 3 (ipykernel)",
   "language": "python",
   "name": "python3"
  },
  "language_info": {
   "codemirror_mode": {
    "name": "ipython",
    "version": 3
   },
   "file_extension": ".py",
   "mimetype": "text/x-python",
   "name": "python",
   "nbconvert_exporter": "python",
   "pygments_lexer": "ipython3",
   "version": "3.9.12"
  }
 },
 "nbformat": 4,
 "nbformat_minor": 2
}
