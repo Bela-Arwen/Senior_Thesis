{
 "cells": [
  {
   "cell_type": "code",
   "execution_count": 1,
   "metadata": {},
   "outputs": [
    {
     "name": "stdout",
     "output_type": "stream",
     "text": [
      "%pylab is deprecated, use %matplotlib inline and import the required libraries.\n",
      "Populating the interactive namespace from numpy and matplotlib\n"
     ]
    }
   ],
   "source": [
    "%pylab inline\n",
    "from astropy.io import fits\n",
    "import astropy.units as u\n",
    "import pickle as pickle\n",
    "import os as os\n",
    "import pandas as pd\n",
    "\n",
    "from spectools_ir.utils import extract_hitran_data, spec_convol, make_rotation_diagram, get_molmass\n",
    "from spectools_ir.utils import compute_thermal_velocity, sigma_to_fwhm, fwhm_to_sigma, wn_to_k, spec_convol_R\n",
    "from spectools_ir.utils import get_miri_mrs_resolution, get_miri_mrs_wavelengths, make_miri_mrs_figure\n",
    "\n",
    "from spectools_ir.flux_calculator import calc_fluxes, make_lineshape\n",
    "\n",
    "from spectools_ir.slabspec import make_spec\n",
    "\n",
    "from spectools_ir.slab_fitter import Config, LineData,Retrieval\n",
    "from spectools_ir.slab_fitter import corner_plot, trace_plot, find_best_fit, compute_model_fluxes\n",
    "from spectools_ir.slab_fitter import calc_solid_angle, calc_radius\n",
    "from spectools_ir.slab_fitter import read_data_from_file, get_samples"
   ]
  },
  {
   "cell_type": "code",
   "execution_count": 2,
   "metadata": {},
   "outputs": [
    {
     "name": "stdout",
     "output_type": "stream",
     "text": [
      "/Users/belaarwen/opt/anaconda3/lib/python3.9/site-packages/spectools_ir/__init__.py\n"
     ]
    }
   ],
   "source": [
    "import spectools_ir\n",
    "print(spectools_ir.__file__)"
   ]
  },
  {
   "cell_type": "code",
   "execution_count": 3,
   "metadata": {},
   "outputs": [],
   "source": [
    "hitran_data_CO=extract_hitran_data('CO',4.6,5.42,vup=1)                     #calling for CO lines\n",
    "hitran_data_H2O=extract_hitran_data('H2O',4.6,5.42,eupmax=4000,aupmin=0)    #calling for H2O lines \n",
    "                                                                            #eupmax gives a maximum to the energy transition in ___?\n",
    "                                                                            #aupmin gives __?__\n",
    "\n",
    "#This line calls to the hitran dataset and labels an astropy table as \"hitran_data\". \n",
    "#We are calling for CO and H2O from the 5.3 to the 5.42 micron regime "
   ]
  },
  {
   "cell_type": "code",
   "execution_count": 4,
   "metadata": {},
   "outputs": [
    {
     "data": {
      "text/plain": [
       "<function spectools_ir.utils.utils.extract_hitran_data(molecule_name, wavemin, wavemax, isotopologue_number=1, eupmax=None, aupmin=None, swmin=None, vup=None)>"
      ]
     },
     "execution_count": 4,
     "metadata": {},
     "output_type": "execute_result"
    }
   ],
   "source": [
    "extract_hitran_data"
   ]
  },
  {
   "cell_type": "code",
   "execution_count": 5,
   "metadata": {},
   "outputs": [],
   "source": [
    "sources_list = ['CITau','FZTau','IQTau']    #3 sources with the new regime\n",
    "#sources_list = ['AS205','CITau','DoAr25','DoAr33','FZTau','GKTau','HD143006','HPTau','IQTau','IRAS04385','WSB52'] #all 11 sources, some without the new regime"
   ]
  },
  {
   "cell_type": "code",
   "execution_count": 7,
   "metadata": {},
   "outputs": [
    {
     "ename": "TypeError",
     "evalue": "'>' not supported between instances of 'tuple' and 'float'",
     "output_type": "error",
     "traceback": [
      "\u001b[0;31m---------------------------------------------------------------------------\u001b[0m",
      "\u001b[0;31mTypeError\u001b[0m                                 Traceback (most recent call last)",
      "Input \u001b[0;32mIn [7]\u001b[0m, in \u001b[0;36m<cell line: 1>\u001b[0;34m()\u001b[0m\n\u001b[1;32m     12\u001b[0m \u001b[38;5;66;03m#ax1.plot(wave,flux)\u001b[39;00m\n\u001b[1;32m     13\u001b[0m \u001b[38;5;66;03m#ax1.set_xlim(4.64, 4.78)\u001b[39;00m\n\u001b[1;32m     14\u001b[0m \u001b[38;5;28;01mfor\u001b[39;00m λ \u001b[38;5;129;01min\u001b[39;00m \u001b[38;5;28menumerate\u001b[39m(hitran_data_CO[\u001b[38;5;124m'\u001b[39m\u001b[38;5;124mwave\u001b[39m\u001b[38;5;124m'\u001b[39m]):\n\u001b[0;32m---> 15\u001b[0m     \u001b[38;5;28;01mif\u001b[39;00m((\u001b[43mλ\u001b[49m\u001b[38;5;241;43m>\u001b[39;49m\u001b[38;5;241;43m4.64\u001b[39;49m) \u001b[38;5;241m&\u001b[39m (λ\u001b[38;5;241m<\u001b[39m\u001b[38;5;241m4.83\u001b[39m)):\n\u001b[1;32m     16\u001b[0m         ax1\u001b[38;5;241m.\u001b[39maxvline(λ, color\u001b[38;5;241m=\u001b[39m\u001b[38;5;124m'\u001b[39m\u001b[38;5;124mC1\u001b[39m\u001b[38;5;124m'\u001b[39m) \n\u001b[1;32m     17\u001b[0m \u001b[38;5;28;01mfor\u001b[39;00m λ \u001b[38;5;129;01min\u001b[39;00m \u001b[38;5;28menumerate\u001b[39m(hitran_data_H2O[\u001b[38;5;124m'\u001b[39m\u001b[38;5;124mwave\u001b[39m\u001b[38;5;124m'\u001b[39m]):\n",
      "\u001b[0;31mTypeError\u001b[0m: '>' not supported between instances of 'tuple' and 'float'"
     ]
    },
    {
     "data": {
      "image/png": "[encoded data removed]",
      "text/plain": [
       "<Figure size 1152x648 with 1 Axes>"
      ]
     },
     "metadata": {
      "needs_background": "light"
     },
     "output_type": "display_data"
    }
   ],
   "source": [
    "for i in sources_list:\n",
    "    infile  = '/Users/belaarwen/Desktop/Vassar/Astronomy/Thesis/reducs22/'+i+'_orders.fits'\n",
    "    hdulist = fits.open(infile)      #hdu means header data unit so we are creating a list of header data units to use in further files\n",
    "    data    = hdulist[1].data\n",
    "    wave    = data['wave'][0]\n",
    "    flux    = data['flux'][0]\n",
    "    \n",
    "    fig = plt.figure(figsize = (16,9))\n",
    "    fig.suptitle('Spectrum of ' +i, fontsize = 22)\n",
    "\n",
    "    ax1 = fig.add_subplot(211)\n",
    "    #ax1.plot(wave,flux)\n",
    "    #ax1.set_xlim(4.64, 4.78)\n",
    "    for λ in enumerate(hitran_data_CO['wave']):\n",
    "        if((λ>4.64) & (λ<4.83)):\n",
    "            ax1.axvline(λ, color='C1') \n",
    "    for λ in enumerate(hitran_data_H2O['wave']):\n",
    "        if((λ>4.64) & (λ<4.83)):\n",
    "            ax1.axvline(λ, color='C2') \n",
    "    ax1.set_xlabel('Wavelength [$\\mu$m]', fontsize=14)\n",
    "    ax1.set_ylabel('Flux [Jy]', fontsize=14)\n",
    "    \n",
    "    ax2 = fig.add_subplot(212)\n",
    "    ax2.plot(wave,flux)\n",
    "    ax2.set_xlim(4.78, 5.3)\n",
    "    for λ in enumerate(hitran_data_CO['wave']):\n",
    "        if((λ>4.83) & (λ<5.3)):\n",
    "            ax1.axvline(λ, color='C1') \n",
    "    for λ in enumerate(hitran_data_H2O['wave']):\n",
    "        if((λ>4.83) & (λ<5.3)):\n",
    "            ax1.axvline(λ, color='C2')         \n",
    "    ax2.set_xlabel('Wavelength [$\\mu$m]', fontsize=14)\n",
    "    ax2.set_ylabel('Flux [Jy]', fontsize=14)\n",
    "    \n"
   ]
  },
  {
   "cell_type": "code",
   "execution_count": null,
   "metadata": {},
   "outputs": [],
   "source": [
    "data"
   ]
  }
 ],
 "metadata": {
  "kernelspec": {
   "display_name": "Python 3 (ipykernel)",
   "language": "python",
   "name": "python3"
  },
  "language_info": {
   "codemirror_mode": {
    "name": "ipython",
    "version": 3
   },
   "file_extension": ".py",
   "mimetype": "text/x-python",
   "name": "python",
   "nbconvert_exporter": "python",
   "pygments_lexer": "ipython3",
   "version": "3.9.12"
  }
 },
 "nbformat": 4,
 "nbformat_minor": 2
}
